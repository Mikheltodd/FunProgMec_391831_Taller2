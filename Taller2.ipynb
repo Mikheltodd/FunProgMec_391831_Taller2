{
  "nbformat": 4,
  "nbformat_minor": 0,
  "metadata": {
    "colab": {
      "private_outputs": true,
      "provenance": [],
      "authorship_tag": "ABX9TyPfyZrV6Q+UKdI4hR+G7T/B",
      "include_colab_link": true
    },
    "kernelspec": {
      "name": "python3",
      "display_name": "Python 3"
    },
    "language_info": {
      "name": "python"
    }
  },
  "cells": [
    {
      "cell_type": "markdown",
      "metadata": {
        "id": "view-in-github",
        "colab_type": "text"
      },
      "source": [
        "<a href=\"https://colab.research.google.com/github/Mikheltodd/FunProgMec_391831_Taller2/blob/main/Taller2.ipynb\" target=\"_parent\"><img src=\"https://colab.research.google.com/assets/colab-badge.svg\" alt=\"Open In Colab\"/></a>"
      ]
    },
    {
      "cell_type": "markdown",
      "source": [
        "## Solución Taller 2\n",
        "## Fundamentos de Programación - Ingeniería Mecánica UPB 202310\n",
        "\n",
        "- Miguel Angel Ortiz Padilla\n",
        "- 000391831\n",
        "- miguel.ortizp@upb.edu.co"
      ],
      "metadata": {
        "id": "2QYT9FBnvz03"
      }
    },
    {
      "cell_type": "code",
      "execution_count": null,
      "metadata": {
        "id": "A5P6TnpivvlQ"
      },
      "outputs": [],
      "source": [
        "x = 3\n",
        "print(x)"
      ]
    },
    {
      "cell_type": "code",
      "source": [],
      "metadata": {
        "id": "1n7QLNuKwe5F"
      },
      "execution_count": null,
      "outputs": []
    }
  ]
}